{
 "cells": [
  {
   "cell_type": "code",
   "execution_count": 1,
   "metadata": {
    "ExecuteTime": {
     "end_time": "2020-03-04T03:24:11.899212Z",
     "start_time": "2020-03-04T03:24:11.050130Z"
    }
   },
   "outputs": [],
   "source": [
    "import random\n",
    "import numpy as np\n",
    "import math\n",
    "import time\n",
    "\n",
    "from numba import jit,prange\n",
    "\n",
    "from helper_functions import *\n",
    "from deletion_functions import *\n",
    "from inference_metaheuristics import *\n",
    "from trace_reconstruction_heuristics import *\n",
    "\n",
    "from tqdm import tnrange, tqdm_notebook\n",
    "import multiprocessing as mp\n",
    "from itertools import repeat\n",
    "\n",
    "import matplotlib\n",
    "import matplotlib.pyplot as plt\n",
    "\n",
    "import seaborn as sns\n",
    "sns.set()\n",
    "sns.set_style('whitegrid')"
   ]
  },
  {
   "cell_type": "code",
   "execution_count": null,
   "metadata": {
    "ExecuteTime": {
     "end_time": "2020-03-04T02:08:34.555033Z",
     "start_time": "2020-03-04T02:08:34.536458Z"
    },
    "code_folding": []
   },
   "outputs": [],
   "source": [
    "def one_forward_pass(t,states,init_vals,traces,delta,unit_cube,edges,P):\n",
    "    \"\"\"\n",
    "    Perform forward pass from t to t+1.\n",
    "    \n",
    "    Parameters\n",
    "    ----------\n",
    "    - states: 2-D numpy array of size S*T denoting joint drift states\n",
    "    - init_val: 1-D numpy array of length S denoting log\n",
    "                probabilities (forward values) at time 't'\n",
    "    - traces:  list of traces\n",
    "    - delta: deletion probability\n",
    "    - unit_cube: 2-D numpy array of shape 2**T,T corresponding to binary representation of\n",
    "                 0, 1,....2**T-1\n",
    "    - edges:  2-D numpy array of size S * 2^T entry edge[i,j] corresponds to\n",
    "              the index of the state (state[i]-unit_cube[j])\n",
    "                 \n",
    "                 \n",
    "    Returns\n",
    "    -------\n",
    "    - next_vals: 1-D numpy array of length S denoting log\n",
    "                 probabilities (forward values) at time 't+1'\n",
    "    \n",
    "    \"\"\"\n",
    "    \n",
    "    next_vals = -1e100 * np.ones_like(init_vals)\n",
    "    \n",
    "    S,T = states.shape\n",
    "    \n",
    "    for i,s in enumerate(states):\n",
    "        for j,c in enumerate(unit_cube):\n",
    "#             print('State, unitcube subtracted',s,c)\n",
    "            if (s - c).min() >= 0:\n",
    "                \n",
    "                state_idx = edges[i,j]\n",
    "                \n",
    "                tau = np.where(c == 0)\n",
    "                \n",
    "                if len(tau[0]) == 0:\n",
    "                    next_vals[i] = log_sum_exp([next_vals[i],\\\n",
    "                                                init_vals[state_idx]+T*np.log(delta)])\n",
    "                    \n",
    "                else:\n",
    "                    \n",
    "                    flag = 0\n",
    "                    temp = []\n",
    "                    for k in tau[0]:\n",
    "                        if (t-states[i,k] >=0 and t-states[i,k]< len(traces[k])):\n",
    "                            temp.append(traces[k][t-states[i][k]])\n",
    "                        else:\n",
    "                            flag = 1\n",
    "                            break\n",
    "\n",
    "                    if (len(set(temp)) == 1 and flag == 0):\n",
    "                        bit = temp[0]\n",
    "                        next_vals[i] = log_sum_exp([next_vals[i],init_vals[state_idx]\\\n",
    "                                                    +(T-len(temp)) * np.log(delta)\\\n",
    "                                                    + np.log(1-delta) * (len(temp))\n",
    "                                                    + np.log(P[t,bit]+1e-100)])\n",
    "                \n",
    "    return next_vals\n",
    "        "
   ]
  },
  {
   "cell_type": "code",
   "execution_count": null,
   "metadata": {
    "ExecuteTime": {
     "end_time": "2020-03-04T02:40:47.636443Z",
     "start_time": "2020-03-04T02:40:47.617044Z"
    }
   },
   "outputs": [],
   "source": [
    "@jit(nopython = True)\n",
    "def one_forward_pass(t,states,init_vals,traces,delta,unit_cube,edges,P):\n",
    "    \"\"\"\n",
    "    Perform forward pass from t to t+1.\n",
    "    \n",
    "    Parameters\n",
    "    ----------\n",
    "    - states: 2-D numpy array of size S*T denoting joint drift states\n",
    "    - init_val: 1-D numpy array of length S denoting log\n",
    "                probabilities (forward values) at time 't'\n",
    "    - traces:  list of traces\n",
    "    - delta: deletion probability\n",
    "    - unit_cube: 2-D numpy array of shape 2**T,T corresponding to binary representation of\n",
    "                 0, 1,....2**T-1\n",
    "    - edges:  2-D numpy array of size S * 2^T entry edge[i,j] corresponds to\n",
    "              the index of the state (state[i]-unit_cube[j])\n",
    "                 \n",
    "                 \n",
    "    Returns\n",
    "    -------\n",
    "    - next_vals: 1-D numpy array of length S denoting log\n",
    "                 probabilities (forward values) at time 't+1'\n",
    "    \n",
    "    \"\"\"\n",
    "    \n",
    "    next_vals = -1e100 * np.ones(init_vals.shape)\n",
    "    \n",
    "    S,T = states.shape\n",
    "    \n",
    "    for i in range(len(states)):\n",
    "        for j in range(len(unit_cube)):\n",
    "#             print('State, unitcube subtracted',s,c)\n",
    "            if (states[i] - unit_cube[j]).min() >= 0:\n",
    "                \n",
    "                state_idx = edges[i,j]\n",
    "                \n",
    "                tau = np.where(unit_cube[j] == 0)\n",
    "                \n",
    "                if len(tau[0]) == 0:\n",
    "                    next_vals[i] = log_sum_exp([next_vals[i],\\\n",
    "                                                init_vals[state_idx]+T*np.log(delta)])\n",
    "                    \n",
    "                else:\n",
    "                    \n",
    "                    flag = 0\n",
    "                    temp = []\n",
    "                    for k in tau[0]:\n",
    "                        if (t-states[i,k] >=0 and t-states[i,k]< len(traces[k])):\n",
    "                            temp.append(traces[k][t-states[i][k]])\n",
    "                        else:\n",
    "                            flag = 1\n",
    "                            break\n",
    "\n",
    "                    if (len(set(temp)) == 1 and flag == 0):\n",
    "                        bit = temp[0]\n",
    "                        next_vals[i] = log_sum_exp([next_vals[i],init_vals[state_idx]\\\n",
    "                                                    +(T-len(temp)) * np.log(delta)\\\n",
    "                                                    + np.log(1-delta) * (len(temp))\n",
    "                                                    + np.log(P[t,bit]+1e-100)])\n",
    "                \n",
    "    return next_vals\n",
    "        "
   ]
  },
  {
   "cell_type": "code",
   "execution_count": null,
   "metadata": {
    "ExecuteTime": {
     "end_time": "2020-03-04T02:40:50.508321Z",
     "start_time": "2020-03-04T02:40:50.496142Z"
    }
   },
   "outputs": [],
   "source": [
    "def forward_pass(N,A,traces,delta,P):\n",
    "    \n",
    "    T = len(traces)\n",
    "    \n",
    "    unit_cube = cartesian_product(np.vstack([[0,1]]*T))\n",
    "    states = gen_joint_drifts(N,[len(Y) for Y in traces])\n",
    "    init_vals = -1e100*np.ones(states.shape[0])\n",
    "    init_vals[0] = 0\n",
    "    edges = make_edges(states,unit_cube)\n",
    "\n",
    "    S,T = states.shape\n",
    "    \n",
    "    forward_vals = np.zeros((S,N+1))\n",
    "    \n",
    "    forward_vals[:,0] = 1.0*init_vals\n",
    "    \n",
    "    for t in range(0,N):\n",
    "        forward_vals[:,t+1] =  one_forward_pass(t,states,forward_vals[:,t]\\\n",
    "                                              ,traces,delta,unit_cube,edges,P)\n",
    "    return forward_vals"
   ]
  },
  {
   "cell_type": "code",
   "execution_count": null,
   "metadata": {
    "ExecuteTime": {
     "end_time": "2020-03-04T02:40:51.402322Z",
     "start_time": "2020-03-04T02:40:51.383975Z"
    }
   },
   "outputs": [],
   "source": [
    "@jit(nopython = True)\n",
    "def one_backward_pass(t,states,init_vals,traces,delta,unit_cube,edges,P):\n",
    "    \"\"\"\n",
    "    Perform backward pass from t+1 to t.\n",
    "    \n",
    "    Parameters\n",
    "    ----------\n",
    "    - states: 2-D numpy array of size S*T denoting joint drift states\n",
    "    - init_val: 1-D numpy array of length S denoting log\n",
    "                probabilities (forward values) at time 't+1'\n",
    "    - traces:  list of traces\n",
    "    - delta: deletion probability\n",
    "    - unit_cube: 2-D numpy array of shape 2**T,T corresponding to binary representation of\n",
    "                 0, 1,....2**T-1\n",
    "    - edges:  2-D numpy array of size S * 2^T entry edge[i,j] corresponds to\n",
    "              the index of the state (state[i]-unit_cube[j])\n",
    "                 \n",
    "                 \n",
    "    Returns\n",
    "    -------\n",
    "    - next_vals: 1-D numpy array of length S denoting log\n",
    "                 probabilities (backward values) at time 't'\n",
    "    \n",
    "    \"\"\"\n",
    "    \n",
    "    next_vals = -1e100 * np.ones_like(init_vals)\n",
    "    \n",
    "    S,T = states.shape\n",
    "    \n",
    "    for i in range(len(states)):\n",
    "        for j in range(len(unit_cube)):\n",
    "#             print('State, unitcube subtracted',s,c)\n",
    "            if (states[i] - unit_cube[j]).min() >= 0:\n",
    "                \n",
    "                state_idx = edges[i,j]\n",
    "                \n",
    "                tau = np.where(unit_cube[j] == 0)\n",
    "                \n",
    "                if len(tau[0]) == 0:\n",
    "                    next_vals[state_idx] = log_sum_exp([next_vals[state_idx],\\\n",
    "                                                init_vals[i]+T*np.log(delta)])\n",
    "                    \n",
    "                else:\n",
    "                    flag = 0\n",
    "                    temp = []\n",
    "                    for k in tau[0]:\n",
    "                        if (t-states[i,k] >=0 and t-states[i,k]< len(traces[k])):\n",
    "                            temp.append(traces[k][t-states[i][k]])\n",
    "                        else:\n",
    "                            flag = 1\n",
    "                            break\n",
    "\n",
    "                    if (len(set(temp)) == 1 and flag == 0):\n",
    "                        bit = temp[0]\n",
    "                        next_vals[state_idx] = log_sum_exp([next_vals[state_idx],init_vals[i]\\\n",
    "                                                    + (T-len(temp)) * np.log(delta)\\\n",
    "                                                    + np.log(1-delta) * (len(temp))\\\n",
    "                                                    + np.log(P[t,bit] + 1e-100)])\n",
    "                \n",
    "    return next_vals\n",
    "        "
   ]
  },
  {
   "cell_type": "code",
   "execution_count": null,
   "metadata": {
    "ExecuteTime": {
     "end_time": "2020-03-04T02:40:52.532173Z",
     "start_time": "2020-03-04T02:40:52.519983Z"
    }
   },
   "outputs": [],
   "source": [
    "def backward_pass(N,A,traces,delta,P):\n",
    "    \n",
    "    T = len(traces)\n",
    "    \n",
    "    unit_cube = cartesian_product(np.vstack([[0,1]]*T))\n",
    "    states = gen_joint_drifts(N,[len(Y) for Y in traces])\n",
    "    init_vals = -1e100*np.ones(states.shape[0])\n",
    "    init_vals[-1] = 0\n",
    "    edges = make_edges(states,unit_cube)\n",
    "\n",
    "    S,T = states.shape\n",
    "    \n",
    "    backward_vals = np.zeros((S,N+1))\n",
    "    \n",
    "    backward_vals[:,-1] = 1.0*init_vals\n",
    "    \n",
    "    for t in range(N-1,-1,-1):\n",
    "        backward_vals[:,t] =  one_backward_pass(t,states,backward_vals[:,t+1]\\\n",
    "                                              ,traces,delta,unit_cube,edges,P)\n",
    "    return backward_vals"
   ]
  },
  {
   "cell_type": "code",
   "execution_count": null,
   "metadata": {
    "ExecuteTime": {
     "end_time": "2020-03-04T03:02:54.845384Z",
     "start_time": "2020-03-04T03:02:54.823978Z"
    }
   },
   "outputs": [],
   "source": [
    "@jit(nopython = True)\n",
    "def one_compute_posterior(t,a,states,forward_vals,backward_vals,traces,delta,unit_cube,edges,P):\n",
    "    \"\"\"\n",
    "    Compute posterior probabilty Pr(observation|x_t = a)\n",
    "    \n",
    "    Parameters\n",
    "    ----------\n",
    "    - states: 2-D numpy array of size S*T denoting joint drift states\n",
    "    - init_val: 1-D numpy array of length S denoting log\n",
    "                probabilities (forward values) at time 't'\n",
    "    - traces:  list of traces\n",
    "    - delta: deletion probability\n",
    "    - unit_cube: 2-D numpy array of shape 2**T,T corresponding to binary representation of\n",
    "                 0, 1,....2**T-1\n",
    "    - edges:  2-D numpy array of size S * 2^T entry edge[i,j] corresponds to\n",
    "              the index of the state (state[i]-unit_cube[j])\n",
    "                 \n",
    "                 \n",
    "    Returns\n",
    "    -------\n",
    "    - next_vals: 1-D numpy array of length S denoting log\n",
    "                 probabilities (forward values) at time 't+1'\n",
    "    \n",
    "    \"\"\"\n",
    "    \n",
    "    init_vals = forward_vals.copy()\n",
    "    next_vals = -1e100 * np.ones(init_vals.shape)\n",
    "    \n",
    "    S,T = states.shape\n",
    "    \n",
    "    for i in range(len(states)):\n",
    "        for j in range(len(unit_cube)):\n",
    "#             print('State, unitcube subtracted',s,c)\n",
    "            if (states[i] - unit_cube[j]).min() >= 0:\n",
    "                \n",
    "                state_idx = edges[i,j]\n",
    "                \n",
    "                tau = np.where(unit_cube[j] == 0)\n",
    "                \n",
    "                if len(tau[0]) == 0:\n",
    "                    next_vals[i] = log_sum_exp([next_vals[i],\\\n",
    "                                                init_vals[state_idx]+T*np.log(delta)])\n",
    "                    \n",
    "                else:\n",
    "                    \n",
    "                    flag = 0\n",
    "                    temp = []\n",
    "                    for k in tau[0]:\n",
    "                        if (t-states[i,k] >=0 and t-states[i,k]< len(traces[k])):\n",
    "                            temp.append(traces[k][t-states[i][k]])\n",
    "                        else:\n",
    "                            flag = 1\n",
    "                            break\n",
    "\n",
    "                    if (len(set(temp)) == 1 and flag == 0 and temp[0] == a):\n",
    "                        bit = a\n",
    "                        next_vals[i] = log_sum_exp([next_vals[i],init_vals[state_idx]\\\n",
    "                                                    +(T-len(temp)) * np.log(delta)\\\n",
    "                                                    + np.log(1-delta) * (len(temp))])\n",
    "    \n",
    "    \n",
    "    out = next_vals + backward_vals\n",
    "    \n",
    "    return log_sum_exp(list(out))\n",
    "        "
   ]
  },
  {
   "cell_type": "code",
   "execution_count": null,
   "metadata": {
    "ExecuteTime": {
     "end_time": "2020-03-04T03:02:55.236090Z",
     "start_time": "2020-03-04T03:02:55.222148Z"
    }
   },
   "outputs": [],
   "source": [
    "def compute_posteriors(N,A,traces,delta,P,forward_vals,backward_vals):\n",
    "    \n",
    "    T = len(traces)\n",
    "    \n",
    "    unit_cube = cartesian_product(np.vstack([[0,1]]*T))\n",
    "    states = gen_joint_drifts(N,[len(Y) for Y in traces])\n",
    "    init_vals = -1e100*np.ones(states.shape[0])\n",
    "    init_vals[-1] = 0\n",
    "    edges = make_edges(states,unit_cube)\n",
    "\n",
    "    S,T = states.shape\n",
    "    \n",
    "    posteriors = np.zeros((N,A))\n",
    "    \n",
    "    for t in range(0,N):\n",
    "        for a in range(0,A):\n",
    "            posteriors[t,a] =  one_compute_posterior(t,a,states,forward_vals[:,t],\\\n",
    "                                                        backward_vals[:,t+1],traces,delta,unit_cube,edges,P)\n",
    "            posteriors[t,a] += np.log(P[t,a]+1e-500)\n",
    "    \n",
    "        posteriors[t] -= log_sum_exp(list(posteriors[t]))\n",
    "    \n",
    "    posteriors = np.exp(posteriors)\n",
    "    \n",
    "    return posteriors"
   ]
  },
  {
   "cell_type": "code",
   "execution_count": null,
   "metadata": {
    "ExecuteTime": {
     "end_time": "2020-03-04T03:02:59.226631Z",
     "start_time": "2020-03-04T03:02:59.219393Z"
    }
   },
   "outputs": [],
   "source": [
    "def symbolwise_map_exact(N,A,traces,delta,P):\n",
    "    forward_vals = forward_pass(N,A,traces,delta,P)\n",
    "    backward_vals = backward_pass(N,A,traces,delta,P)\n",
    "    P_post = compute_posteriors(N,A,traces,delta,P,forward_vals,backward_vals)\n",
    "    \n",
    "    X_hat = decode_from_P(P_post)\n",
    "    return X_hat"
   ]
  },
  {
   "cell_type": "code",
   "execution_count": null,
   "metadata": {
    "ExecuteTime": {
     "end_time": "2020-03-04T03:03:01.635416Z",
     "start_time": "2020-03-04T03:03:01.626884Z"
    }
   },
   "outputs": [],
   "source": [
    "N = 10\n",
    "A = 2\n",
    "T = 3\n",
    "delta = 0.3\n",
    "\n",
    "P = 1/A * np.ones((N,A))\n",
    "X = randseq_uniform(N,A)\n",
    "traces = []\n",
    "      \n",
    "for t in range(1,T+1):\n",
    "    traces.append(dc(X,delta))"
   ]
  },
  {
   "cell_type": "code",
   "execution_count": null,
   "metadata": {
    "ExecuteTime": {
     "end_time": "2020-03-04T03:03:02.128916Z",
     "start_time": "2020-03-04T03:03:02.122575Z"
    }
   },
   "outputs": [],
   "source": [
    "X"
   ]
  },
  {
   "cell_type": "code",
   "execution_count": null,
   "metadata": {
    "ExecuteTime": {
     "end_time": "2020-03-04T03:03:05.454102Z",
     "start_time": "2020-03-04T03:03:05.418979Z"
    }
   },
   "outputs": [],
   "source": [
    "symbolwise_map_exact(N,A,traces,delta,P)"
   ]
  },
  {
   "cell_type": "code",
   "execution_count": null,
   "metadata": {
    "ExecuteTime": {
     "end_time": "2020-03-04T02:18:49.315656Z",
     "start_time": "2020-03-04T02:18:48.988084Z"
    }
   },
   "outputs": [],
   "source": [
    "sns.heatmap(forward_vals)"
   ]
  },
  {
   "cell_type": "code",
   "execution_count": null,
   "metadata": {
    "ExecuteTime": {
     "end_time": "2020-03-04T02:18:50.067249Z",
     "start_time": "2020-03-04T02:18:49.898977Z"
    }
   },
   "outputs": [],
   "source": [
    "sns.heatmap(backward_vals)"
   ]
  },
  {
   "cell_type": "code",
   "execution_count": 4,
   "metadata": {
    "ExecuteTime": {
     "end_time": "2020-03-04T03:24:50.757983Z",
     "start_time": "2020-03-04T03:24:50.745158Z"
    }
   },
   "outputs": [],
   "source": [
    "def one_iter(N,A,T_s,delta, method = None, method_params = None):\n",
    "    \n",
    "    X = randseq_uniform(N,A)\n",
    "    Y_list = []\n",
    "    \n",
    "    hamming_error_rates = []\n",
    "    \n",
    "    for t in range(1,max(T_s)+1):\n",
    "        Y_list.append(dc(X,delta))\n",
    "        \n",
    "        if t in T_s:\n",
    "            if method == 'proj_grad_asc_traces':\n",
    "                Xhat = proj_grad_asc_traces(method_params['P_init'],Y_list,lambda_grad,\\\n",
    "                                     lambda_forward,delta,step_size = 0.1,\\\n",
    "                                     tolerance = 1e-6,max_grad_steps = 100)\n",
    "            elif method == 'symbolwise_map_seq':\n",
    "                Xhat = symbolwise_map_seq(method_params['P_init'],Y_list,lambda_grad,delta)\n",
    "                \n",
    "            elif method == 'symbolwise_map_exact':\n",
    "                Xhat = symbolwise_map_exact(method_params['P_init'],Y_list,delta)\n",
    "            else:\n",
    "                raise ValueError('Method not implemented')\n",
    "            \n",
    "            hamming_error_rates.append(hamming_error_rate(Xhat,X))\n",
    "    \n",
    "#     print(X,Xhat)\n",
    "    return np.array(hamming_error_rates)"
   ]
  },
  {
   "cell_type": "code",
   "execution_count": 6,
   "metadata": {
    "ExecuteTime": {
     "end_time": "2020-03-04T03:24:58.772874Z",
     "start_time": "2020-03-04T03:24:58.743923Z"
    }
   },
   "outputs": [
    {
     "data": {
      "text/plain": [
       "array([0.2])"
      ]
     },
     "execution_count": 6,
     "metadata": {},
     "output_type": "execute_result"
    }
   ],
   "source": [
    "N = 10\n",
    "A = 2\n",
    "T_s = [1]\n",
    "delta = 0.2\n",
    "\n",
    "method = 'proj_grad_asc_traces'\n",
    "method_params = {}\n",
    "method_params['P_init'] = 1/A * np.ones((N,A))\n",
    "one_iter(N,A,T_s,delta, method, method_params)\n",
    "\n",
    "method = 'symbolwise_map_seq'\n",
    "method_params = {}\n",
    "method_params['P_init'] = 1/A * np.ones((N,A))\n",
    "one_iter(N,A,T_s,delta, method, method_params)\n",
    "\n",
    "method = 'symbolwise_map_exact'\n",
    "method_params = {}\n",
    "method_params['P_init'] = 1/A * np.ones((N,A))\n",
    "one_iter(N,A,T_s,delta, method, method_params)"
   ]
  },
  {
   "cell_type": "code",
   "execution_count": 7,
   "metadata": {
    "ExecuteTime": {
     "end_time": "2020-03-04T03:25:01.060119Z",
     "start_time": "2020-03-04T03:25:01.046605Z"
    }
   },
   "outputs": [],
   "source": [
    "def gen_error_rates(N,A,T_s,delta_vec, method = None, method_params = None, hyperiters = 100,process_per_hyperiter = 100):\n",
    "    \n",
    "    results = {}\n",
    "    results['summary'] = (\"Hamming error rates and likelihood gains for a blocklength of {}, \"\n",
    "    \"an alphabet size {} using the method {}\".format(N,A,method))\n",
    "    \n",
    "    results['delta_vec'] = delta_vec\n",
    "    \n",
    "    hamming_error_list = np.zeros((len(delta_vec),len(T_s)))\n",
    "    #likelihood_gain_list = np.zeros((len(delta_vec),hyperiters*process_per_hyperiter))\n",
    "    \n",
    "    for idx, delta in enumerate(delta_vec):\n",
    "#         print('Computing for delta = ',delta)\n",
    "        time.sleep(0.4)\n",
    "        pool = mp.Pool(mp.cpu_count())\n",
    "        for it in tnrange(hyperiters):\n",
    "            temp = pool.starmap(one_iter, zip(repeat(N),repeat(A),repeat(T_s),delta*np.ones(process_per_hyperiter),\\\n",
    "                                              repeat(method),repeat(method_params)))\n",
    "            temp = np.array(temp)\n",
    "            hamming_error_list[idx,:] += temp.sum(axis = 0)\n",
    "            #likelihood_gain_list[idx,it*process_per_hyperiter:(it+1)*process_per_hyperiter] = temp[:,1]\n",
    "        pool.close()\n",
    "    \n",
    "    hamming_error_list /= hyperiters * process_per_hyperiter\n",
    "    results['hamming_error_list'] = hamming_error_list\n",
    "#     results['likelihood_gain_list'] = likelihood_gain_list\n",
    "    \n",
    "    return results"
   ]
  },
  {
   "cell_type": "code",
   "execution_count": 8,
   "metadata": {
    "ExecuteTime": {
     "end_time": "2020-03-04T03:27:32.124760Z",
     "start_time": "2020-03-04T03:25:13.399126Z"
    }
   },
   "outputs": [
    {
     "name": "stdout",
     "output_type": "stream",
     "text": [
      "************************************************** \n",
      " symbolwise_map_exact \n",
      " **************************************************\n"
     ]
    },
    {
     "data": {
      "application/vnd.jupyter.widget-view+json": {
       "model_id": "0b5b325c3f624d8984a6b0ff255e43c0",
       "version_major": 2,
       "version_minor": 0
      },
      "text/plain": [
       "HBox(children=(FloatProgress(value=0.0, max=20.0), HTML(value='')))"
      ]
     },
     "metadata": {},
     "output_type": "display_data"
    },
    {
     "name": "stdout",
     "output_type": "stream",
     "text": [
      "\n"
     ]
    },
    {
     "data": {
      "application/vnd.jupyter.widget-view+json": {
       "model_id": "5889f112382e43d3ba60c6bba94bbae4",
       "version_major": 2,
       "version_minor": 0
      },
      "text/plain": [
       "HBox(children=(FloatProgress(value=0.0, max=20.0), HTML(value='')))"
      ]
     },
     "metadata": {},
     "output_type": "display_data"
    },
    {
     "name": "stdout",
     "output_type": "stream",
     "text": [
      "\n"
     ]
    },
    {
     "data": {
      "application/vnd.jupyter.widget-view+json": {
       "model_id": "9ee7e6c4cef34a6ab7d3c5e4d3aaaad0",
       "version_major": 2,
       "version_minor": 0
      },
      "text/plain": [
       "HBox(children=(FloatProgress(value=0.0, max=20.0), HTML(value='')))"
      ]
     },
     "metadata": {},
     "output_type": "display_data"
    },
    {
     "name": "stdout",
     "output_type": "stream",
     "text": [
      "\n"
     ]
    },
    {
     "data": {
      "application/vnd.jupyter.widget-view+json": {
       "model_id": "a3b1b04213ac4d0fb4cc4c19c2c096c3",
       "version_major": 2,
       "version_minor": 0
      },
      "text/plain": [
       "HBox(children=(FloatProgress(value=0.0, max=20.0), HTML(value='')))"
      ]
     },
     "metadata": {},
     "output_type": "display_data"
    },
    {
     "name": "stdout",
     "output_type": "stream",
     "text": [
      "\n"
     ]
    },
    {
     "data": {
      "application/vnd.jupyter.widget-view+json": {
       "model_id": "db091926a409418a9dea0b2b64025ce9",
       "version_major": 2,
       "version_minor": 0
      },
      "text/plain": [
       "HBox(children=(FloatProgress(value=0.0, max=20.0), HTML(value='')))"
      ]
     },
     "metadata": {},
     "output_type": "display_data"
    },
    {
     "name": "stdout",
     "output_type": "stream",
     "text": [
      "\n",
      "************************************************** \n",
      " proj_grad_asc_traces \n",
      " **************************************************\n"
     ]
    },
    {
     "data": {
      "application/vnd.jupyter.widget-view+json": {
       "model_id": "c2428c19c0954e169ffd74ddc9733b79",
       "version_major": 2,
       "version_minor": 0
      },
      "text/plain": [
       "HBox(children=(FloatProgress(value=0.0, max=20.0), HTML(value='')))"
      ]
     },
     "metadata": {},
     "output_type": "display_data"
    },
    {
     "name": "stdout",
     "output_type": "stream",
     "text": [
      "\n"
     ]
    },
    {
     "data": {
      "application/vnd.jupyter.widget-view+json": {
       "model_id": "befb7242e76b4c1d912664e2f15cbfd9",
       "version_major": 2,
       "version_minor": 0
      },
      "text/plain": [
       "HBox(children=(FloatProgress(value=0.0, max=20.0), HTML(value='')))"
      ]
     },
     "metadata": {},
     "output_type": "display_data"
    },
    {
     "name": "stdout",
     "output_type": "stream",
     "text": [
      "\n"
     ]
    },
    {
     "data": {
      "application/vnd.jupyter.widget-view+json": {
       "model_id": "65ae8bc130594af9b8af2b52b1a24555",
       "version_major": 2,
       "version_minor": 0
      },
      "text/plain": [
       "HBox(children=(FloatProgress(value=0.0, max=20.0), HTML(value='')))"
      ]
     },
     "metadata": {},
     "output_type": "display_data"
    },
    {
     "name": "stdout",
     "output_type": "stream",
     "text": [
      "\n"
     ]
    },
    {
     "data": {
      "application/vnd.jupyter.widget-view+json": {
       "model_id": "7184e63b34b44435bad9ce09a1e74aea",
       "version_major": 2,
       "version_minor": 0
      },
      "text/plain": [
       "HBox(children=(FloatProgress(value=0.0, max=20.0), HTML(value='')))"
      ]
     },
     "metadata": {},
     "output_type": "display_data"
    },
    {
     "name": "stdout",
     "output_type": "stream",
     "text": [
      "\n"
     ]
    },
    {
     "data": {
      "application/vnd.jupyter.widget-view+json": {
       "model_id": "def73f280b2b4a5384f369494d6bd0e2",
       "version_major": 2,
       "version_minor": 0
      },
      "text/plain": [
       "HBox(children=(FloatProgress(value=0.0, max=20.0), HTML(value='')))"
      ]
     },
     "metadata": {},
     "output_type": "display_data"
    },
    {
     "name": "stdout",
     "output_type": "stream",
     "text": [
      "\n",
      "************************************************** \n",
      " symbolwise_map_seq \n",
      " **************************************************\n"
     ]
    },
    {
     "data": {
      "application/vnd.jupyter.widget-view+json": {
       "model_id": "657f6b08d3bc4707aef313cd7936fba9",
       "version_major": 2,
       "version_minor": 0
      },
      "text/plain": [
       "HBox(children=(FloatProgress(value=0.0, max=20.0), HTML(value='')))"
      ]
     },
     "metadata": {},
     "output_type": "display_data"
    },
    {
     "name": "stdout",
     "output_type": "stream",
     "text": [
      "\n"
     ]
    },
    {
     "data": {
      "application/vnd.jupyter.widget-view+json": {
       "model_id": "720371109f314b67b5dcfc31d3989bd7",
       "version_major": 2,
       "version_minor": 0
      },
      "text/plain": [
       "HBox(children=(FloatProgress(value=0.0, max=20.0), HTML(value='')))"
      ]
     },
     "metadata": {},
     "output_type": "display_data"
    },
    {
     "name": "stdout",
     "output_type": "stream",
     "text": [
      "\n"
     ]
    },
    {
     "data": {
      "application/vnd.jupyter.widget-view+json": {
       "model_id": "d0702e3b2fb440c1a4cd333ad1bb8e6e",
       "version_major": 2,
       "version_minor": 0
      },
      "text/plain": [
       "HBox(children=(FloatProgress(value=0.0, max=20.0), HTML(value='')))"
      ]
     },
     "metadata": {},
     "output_type": "display_data"
    },
    {
     "name": "stdout",
     "output_type": "stream",
     "text": [
      "\n"
     ]
    },
    {
     "data": {
      "application/vnd.jupyter.widget-view+json": {
       "model_id": "e26158314f9f468fb036ee8f75b2aebe",
       "version_major": 2,
       "version_minor": 0
      },
      "text/plain": [
       "HBox(children=(FloatProgress(value=0.0, max=20.0), HTML(value='')))"
      ]
     },
     "metadata": {},
     "output_type": "display_data"
    },
    {
     "name": "stdout",
     "output_type": "stream",
     "text": [
      "\n"
     ]
    },
    {
     "data": {
      "application/vnd.jupyter.widget-view+json": {
       "model_id": "50ccc68f5b0048dc9ca741adbe3f56f7",
       "version_major": 2,
       "version_minor": 0
      },
      "text/plain": [
       "HBox(children=(FloatProgress(value=0.0, max=20.0), HTML(value='')))"
      ]
     },
     "metadata": {},
     "output_type": "display_data"
    },
    {
     "name": "stdout",
     "output_type": "stream",
     "text": [
      "\n"
     ]
    }
   ],
   "source": [
    "import warnings\n",
    "warnings.filterwarnings('ignore')\n",
    "\n",
    "N = 20\n",
    "A = 2\n",
    "T_s = [1,2]\n",
    "delta_vec = np.arange(0.1,0.6,0.1)\n",
    "\n",
    "hyperiters = 20\n",
    "process_per_hyperiter = 40\n",
    "\n",
    "errors = {}\n",
    "\n",
    "methods = ['symbolwise_map_exact','proj_grad_asc_traces','symbolwise_map_seq']\n",
    "\n",
    "for method in methods:\n",
    "    print('*'*50,'\\n',method,'\\n','*'*50)\n",
    "    method_params = {}\n",
    "    method_params['P_init'] = 1/A * np.ones((N,A))\n",
    "    errors[method] = gen_error_rates(N,A,T_s,delta_vec, method, method_params,hyperiters,process_per_hyperiter)"
   ]
  },
  {
   "cell_type": "code",
   "execution_count": null,
   "metadata": {
    "ExecuteTime": {
     "end_time": "2020-02-24T18:51:08.729648Z",
     "start_time": "2020-02-24T18:51:08.721392Z"
    }
   },
   "outputs": [],
   "source": [
    "errors['proj_grad_asc_traces']['hamming_error_list']"
   ]
  },
  {
   "cell_type": "code",
   "execution_count": 10,
   "metadata": {
    "ExecuteTime": {
     "end_time": "2020-03-04T03:29:03.769240Z",
     "start_time": "2020-03-04T03:29:03.652368Z"
    }
   },
   "outputs": [
    {
     "data": {
      "text/plain": [
       "[<matplotlib.lines.Line2D at 0x7fcc1c806940>,\n",
       " <matplotlib.lines.Line2D at 0x7fcc1c7f6128>]"
      ]
     },
     "execution_count": 10,
     "metadata": {},
     "output_type": "execute_result"
    },
    {
     "data": {
      "image/png": "[encoded data removed]",
      "text/plain": [
       "<Figure size 432x288 with 1 Axes>"
      ]
     },
     "metadata": {},
     "output_type": "display_data"
    }
   ],
   "source": [
    "plt.plot(errors['proj_grad_asc_traces']['hamming_error_list'],marker = 's',markersize = 10)\n",
    "plt.plot(errors['symbolwise_map_seq']['hamming_error_list'],marker = '*',markersize = 10)\n",
    "plt.plot(errors['symbolwise_map_exact']['hamming_error_list'],marker = '^',markersize = 10)"
   ]
  },
  {
   "cell_type": "code",
   "execution_count": null,
   "metadata": {
    "ExecuteTime": {
     "end_time": "2020-02-24T22:52:56.673155Z",
     "start_time": "2020-02-24T22:52:56.552055Z"
    }
   },
   "outputs": [],
   "source": [
    "plt.plot(errors['symbolwise_map_seq']['hamming_error_list'])"
   ]
  },
  {
   "cell_type": "code",
   "execution_count": null,
   "metadata": {},
   "outputs": [],
   "source": []
  }
 ],
 "metadata": {
  "kernelspec": {
   "display_name": "Python 3",
   "language": "python",
   "name": "python3"
  },
  "language_info": {
   "codemirror_mode": {
    "name": "ipython",
    "version": 3
   },
   "file_extension": ".py",
   "mimetype": "text/x-python",
   "name": "python",
   "nbconvert_exporter": "python",
   "pygments_lexer": "ipython3",
   "version": "3.6.10"
  },
  "latex_envs": {
   "LaTeX_envs_menu_present": true,
   "autoclose": false,
   "autocomplete": true,
   "bibliofile": "biblio.bib",
   "cite_by": "apalike",
   "current_citInitial": 1,
   "eqLabelWithNumbers": true,
   "eqNumInitial": 1,
   "hotkeys": {
    "equation": "Ctrl-E",
    "itemize": "Ctrl-I"
   },
   "labels_anchors": false,
   "latex_user_defs": false,
   "report_style_numbering": false,
   "user_envs_cfg": false
  },
  "toc": {
   "base_numbering": 1,
   "nav_menu": {},
   "number_sections": true,
   "sideBar": true,
   "skip_h1_title": false,
   "title_cell": "Table of Contents",
   "title_sidebar": "Contents",
   "toc_cell": false,
   "toc_position": {},
   "toc_section_display": true,
   "toc_window_display": false
  }
 },
 "nbformat": 4,
 "nbformat_minor": 2
}

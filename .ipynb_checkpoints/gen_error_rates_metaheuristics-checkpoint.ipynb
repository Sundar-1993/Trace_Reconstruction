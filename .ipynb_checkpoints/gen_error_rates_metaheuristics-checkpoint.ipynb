{
 "cells": [
  {
   "cell_type": "code",
   "execution_count": 1,
   "metadata": {
    "ExecuteTime": {
     "end_time": "2020-04-01T22:27:13.007535Z",
     "start_time": "2020-04-01T22:27:12.018675Z"
    }
   },
   "outputs": [],
   "source": [
    "import random\n",
    "import numpy as np\n",
    "import math\n",
    "import time\n",
    "\n",
    "from numba import jit,prange\n",
    "\n",
    "from helper_functions import *\n",
    "from deletion_functions import *\n",
    "from inference_metaheuristics import *\n",
    "\n",
    "import matplotlib\n",
    "import matplotlib.pyplot as plt\n",
    "\n",
    "from tqdm import tnrange, tqdm_notebook\n",
    "import multiprocessing as mp\n",
    "from itertools import repeat\n",
    "\n",
    "import seaborn as sns\n",
    "sns.set()\n",
    "sns.set_style('whitegrid')"
   ]
  },
  {
   "cell_type": "code",
   "execution_count": 46,
   "metadata": {
    "ExecuteTime": {
     "end_time": "2020-04-02T01:10:22.388502Z",
     "start_time": "2020-04-02T01:10:22.372807Z"
    }
   },
   "outputs": [],
   "source": [
    "def one_iter(N,A,delta, method = None, method_params = None):\n",
    "    \n",
    "    X = randseq_uniform(N,A)\n",
    "    Y = dc(X,delta)\n",
    "    \n",
    "    if method == 'exact_ml':\n",
    "        Xhat = exact_ml(N,A,Y,lambda_forward,delta)\n",
    "    elif method == 'symbolwise_map':\n",
    "        Xhat = symbolwise_map(method_params['P_init'],Y,lambda_grad,delta)\n",
    "    elif method == 'cood_refinement_greedy':\n",
    "        Xhat = cood_refinement_greedy(method_params['P_init'],Y,\\\n",
    "                                      lambda_grad,delta)    \n",
    "    elif method == 'cood_refinement_greedy_Y_init':\n",
    "        start_point = np.pad(Y,(0,N-len(Y)),'constant',constant_values = (0,0))\n",
    "        method_params['P_init'] = make_categorical(start_point,A)\n",
    "        Xhat = cood_refinement_greedy(method_params['P_init'],Y,\\\n",
    "                                      lambda_grad,delta)    \n",
    "    elif method == 'proj_grad_asc':\n",
    "        Xhat = proj_grad_asc(method_params['P_init'],Y,lambda_grad,\\\n",
    "                             delta,step_size = 0.1,\\\n",
    "                             tolerance = 1e-6,max_grad_steps = 100)    \n",
    "    else:\n",
    "        raise ValueError('Method not implemented')\n",
    "    \n",
    "#     print(X,Xhat)\n",
    "    return (hamming_error_rate(Xhat,X),log_likelihood_gain(Xhat,X,Y,delta,A))"
   ]
  },
  {
   "cell_type": "code",
   "execution_count": 50,
   "metadata": {
    "ExecuteTime": {
     "end_time": "2020-04-02T01:10:54.964563Z",
     "start_time": "2020-04-02T01:10:54.928165Z"
    }
   },
   "outputs": [
    {
     "name": "stdout",
     "output_type": "stream",
     "text": [
      "(0.4, 2.7080502011022105)\n",
      "(0.4, 2.19722457733622)\n",
      "(0.5, 1.1986957472250923)\n",
      "(0.4, 2.014903020542265)\n",
      "(0.2, 1.6094379124341005)\n"
     ]
    }
   ],
   "source": [
    "######## Warming up the functions so all jitted codes are compiled #########\n",
    "\n",
    "N = 10\n",
    "A = 2\n",
    "delta = 0.2\n",
    "\n",
    "method = 'symbolwise_map'\n",
    "method_params = {}\n",
    "method_params['P_init'] = 1/A * np.ones((N,A))\n",
    "print(one_iter(N,A,delta, method, method_params))\n",
    "\n",
    "method = 'exact_ml'\n",
    "method_params = {}\n",
    "method_params['P'] = 1/A * np.ones((N,A))\n",
    "print(one_iter(N,A,delta, method, method_params))\n",
    "\n",
    "method = 'cood_refinement_greedy'\n",
    "method_params = {}\n",
    "method_params['P_init'] = 1/A * np.ones((N,A))\n",
    "print(one_iter(N,A,delta, method, method_params))\n",
    "\n",
    "method = 'cood_refinement_greedy_Y_init'\n",
    "method_params = {}\n",
    "method_params['P_init'] = 1/A * np.ones((N,A))\n",
    "print(one_iter(N,A,delta, method, method_params))\n",
    "\n",
    "method = 'proj_grad_asc'\n",
    "method_params = {}\n",
    "method_params['P_init'] = 1/A * np.ones((N,A))\n",
    "print(one_iter(N,A,delta, method, method_params))"
   ]
  },
  {
   "cell_type": "code",
   "execution_count": 5,
   "metadata": {
    "ExecuteTime": {
     "end_time": "2020-02-21T00:09:48.370933Z",
     "start_time": "2020-02-21T00:09:48.246859Z"
    }
   },
   "outputs": [
    {
     "data": {
      "text/plain": [
       "(0.52, 4.7849886125639145)"
      ]
     },
     "execution_count": 5,
     "metadata": {},
     "output_type": "execute_result"
    }
   ],
   "source": [
    "### time test for one iteration ####\n",
    "# for low blocklength use magin function %timeit #\n",
    "# for large blocklength check how long this bloack takes to run #\n",
    "\n",
    "N = 100\n",
    "A = 2\n",
    "delta = 0.1\n",
    "\n",
    "method = 'cood_refinement_greedy'\n",
    "method_params = {}\n",
    "method_params['P_init'] = 1/A * np.ones((N,A))\n",
    "one_iter(N,A,delta, method, method_params)"
   ]
  },
  {
   "cell_type": "code",
   "execution_count": 51,
   "metadata": {
    "ExecuteTime": {
     "end_time": "2020-04-02T01:11:15.249358Z",
     "start_time": "2020-04-02T01:11:15.233638Z"
    }
   },
   "outputs": [],
   "source": [
    "def gen_error_rates(N,A,delta_vec, method = None, method_params = None, hyperiters = 100,process_per_hyperiter = 100):\n",
    "    \n",
    "    results = {}\n",
    "    results['summary'] = (\"Hamming error rates and likelihood gains for a blocklength of {}, \"\n",
    "    \"an alphabet size {} using the method {}\".format(N,A,method))\n",
    "    \n",
    "    results['delta_vec'] = delta_vec\n",
    "    \n",
    "    hamming_error_list = np.zeros((len(delta_vec),hyperiters*process_per_hyperiter))\n",
    "    likelihood_gain_list = np.zeros((len(delta_vec),hyperiters*process_per_hyperiter))\n",
    "    \n",
    "    for idx, delta in enumerate(delta_vec):\n",
    "#         print('Computing for delta = ',delta)\n",
    "        time.sleep(0.4)\n",
    "        pool = mp.Pool(mp.cpu_count())\n",
    "        for it in tnrange(hyperiters):\n",
    "            temp = pool.starmap(one_iter, zip(repeat(N),repeat(A),delta*np.ones(process_per_hyperiter),\\\n",
    "                                              repeat(method),repeat(method_params)))\n",
    "            temp = np.array(temp)\n",
    "            hamming_error_list[idx,it*process_per_hyperiter:(it+1)*process_per_hyperiter] = temp[:,0]\n",
    "            likelihood_gain_list[idx,it*process_per_hyperiter:(it+1)*process_per_hyperiter] = temp[:,1]\n",
    "        pool.close()\n",
    "    \n",
    "    results['hamming_error_list'] = hamming_error_list\n",
    "    results['likelihood_gain_list'] = likelihood_gain_list\n",
    "    \n",
    "    return results"
   ]
  },
  {
   "cell_type": "code",
   "execution_count": 53,
   "metadata": {
    "ExecuteTime": {
     "end_time": "2020-04-02T01:12:42.506175Z",
     "start_time": "2020-04-02T01:11:32.734889Z"
    },
    "scrolled": true
   },
   "outputs": [
    {
     "name": "stdout",
     "output_type": "stream",
     "text": [
      "************************************************** \n",
      " cood_refinement_greedy \n",
      " **************************************************\n"
     ]
    },
    {
     "data": {
      "application/vnd.jupyter.widget-view+json": {
       "model_id": "f9ddde7533874792a87be199281cdf09",
       "version_major": 2,
       "version_minor": 0
      },
      "text/plain": [
       "HBox(children=(FloatProgress(value=0.0), HTML(value='')))"
      ]
     },
     "metadata": {},
     "output_type": "display_data"
    },
    {
     "name": "stdout",
     "output_type": "stream",
     "text": [
      "\n"
     ]
    },
    {
     "data": {
      "application/vnd.jupyter.widget-view+json": {
       "model_id": "c7673ebd5c4d413bbf9e3e267eff0a22",
       "version_major": 2,
       "version_minor": 0
      },
      "text/plain": [
       "HBox(children=(FloatProgress(value=0.0), HTML(value='')))"
      ]
     },
     "metadata": {},
     "output_type": "display_data"
    },
    {
     "name": "stdout",
     "output_type": "stream",
     "text": [
      "\n"
     ]
    },
    {
     "data": {
      "application/vnd.jupyter.widget-view+json": {
       "model_id": "4696552fc6864cae84ab355bb97e0af8",
       "version_major": 2,
       "version_minor": 0
      },
      "text/plain": [
       "HBox(children=(FloatProgress(value=0.0), HTML(value='')))"
      ]
     },
     "metadata": {},
     "output_type": "display_data"
    },
    {
     "name": "stdout",
     "output_type": "stream",
     "text": [
      "\n"
     ]
    },
    {
     "data": {
      "application/vnd.jupyter.widget-view+json": {
       "model_id": "b73a7fea216548c5a246f6c0324e0a11",
       "version_major": 2,
       "version_minor": 0
      },
      "text/plain": [
       "HBox(children=(FloatProgress(value=0.0), HTML(value='')))"
      ]
     },
     "metadata": {},
     "output_type": "display_data"
    },
    {
     "name": "stdout",
     "output_type": "stream",
     "text": [
      "\n"
     ]
    },
    {
     "data": {
      "application/vnd.jupyter.widget-view+json": {
       "model_id": "523e849dd2c74b5ba8a12834cba70a95",
       "version_major": 2,
       "version_minor": 0
      },
      "text/plain": [
       "HBox(children=(FloatProgress(value=0.0), HTML(value='')))"
      ]
     },
     "metadata": {},
     "output_type": "display_data"
    },
    {
     "name": "stdout",
     "output_type": "stream",
     "text": [
      "\n"
     ]
    },
    {
     "data": {
      "application/vnd.jupyter.widget-view+json": {
       "model_id": "99a1e985e4fe4f0ebe6127b36a111291",
       "version_major": 2,
       "version_minor": 0
      },
      "text/plain": [
       "HBox(children=(FloatProgress(value=0.0), HTML(value='')))"
      ]
     },
     "metadata": {},
     "output_type": "display_data"
    },
    {
     "name": "stdout",
     "output_type": "stream",
     "text": [
      "\n"
     ]
    },
    {
     "data": {
      "application/vnd.jupyter.widget-view+json": {
       "model_id": "d9bd48ef47f74b4881deab1c2476e8be",
       "version_major": 2,
       "version_minor": 0
      },
      "text/plain": [
       "HBox(children=(FloatProgress(value=0.0), HTML(value='')))"
      ]
     },
     "metadata": {},
     "output_type": "display_data"
    },
    {
     "name": "stdout",
     "output_type": "stream",
     "text": [
      "\n"
     ]
    },
    {
     "data": {
      "application/vnd.jupyter.widget-view+json": {
       "model_id": "a5c92e723bd34a77b354758f812eb55c",
       "version_major": 2,
       "version_minor": 0
      },
      "text/plain": [
       "HBox(children=(FloatProgress(value=0.0), HTML(value='')))"
      ]
     },
     "metadata": {},
     "output_type": "display_data"
    },
    {
     "name": "stdout",
     "output_type": "stream",
     "text": [
      "\n"
     ]
    },
    {
     "data": {
      "application/vnd.jupyter.widget-view+json": {
       "model_id": "793c78345f1e49caa4a198e6b672161f",
       "version_major": 2,
       "version_minor": 0
      },
      "text/plain": [
       "HBox(children=(FloatProgress(value=0.0), HTML(value='')))"
      ]
     },
     "metadata": {},
     "output_type": "display_data"
    },
    {
     "name": "stdout",
     "output_type": "stream",
     "text": [
      "\n",
      "************************************************** \n",
      " cood_refinement_greedy_Y_init \n",
      " **************************************************\n"
     ]
    },
    {
     "data": {
      "application/vnd.jupyter.widget-view+json": {
       "model_id": "f2aad532213d4a32b43be1f5be00db77",
       "version_major": 2,
       "version_minor": 0
      },
      "text/plain": [
       "HBox(children=(FloatProgress(value=0.0), HTML(value='')))"
      ]
     },
     "metadata": {},
     "output_type": "display_data"
    },
    {
     "name": "stdout",
     "output_type": "stream",
     "text": [
      "\n"
     ]
    },
    {
     "data": {
      "application/vnd.jupyter.widget-view+json": {
       "model_id": "3f87654c40194eb1b787b36738e7eca9",
       "version_major": 2,
       "version_minor": 0
      },
      "text/plain": [
       "HBox(children=(FloatProgress(value=0.0), HTML(value='')))"
      ]
     },
     "metadata": {},
     "output_type": "display_data"
    },
    {
     "name": "stdout",
     "output_type": "stream",
     "text": [
      "\n"
     ]
    },
    {
     "data": {
      "application/vnd.jupyter.widget-view+json": {
       "model_id": "e432372581e344cb9bbcd4dfaf6ce138",
       "version_major": 2,
       "version_minor": 0
      },
      "text/plain": [
       "HBox(children=(FloatProgress(value=0.0), HTML(value='')))"
      ]
     },
     "metadata": {},
     "output_type": "display_data"
    },
    {
     "name": "stdout",
     "output_type": "stream",
     "text": [
      "\n"
     ]
    },
    {
     "data": {
      "application/vnd.jupyter.widget-view+json": {
       "model_id": "09f40096ed784e798237311a422fe602",
       "version_major": 2,
       "version_minor": 0
      },
      "text/plain": [
       "HBox(children=(FloatProgress(value=0.0), HTML(value='')))"
      ]
     },
     "metadata": {},
     "output_type": "display_data"
    },
    {
     "name": "stdout",
     "output_type": "stream",
     "text": [
      "\n"
     ]
    },
    {
     "data": {
      "application/vnd.jupyter.widget-view+json": {
       "model_id": "9318e8b18bdc4ce3a9be1067fa00ebb2",
       "version_major": 2,
       "version_minor": 0
      },
      "text/plain": [
       "HBox(children=(FloatProgress(value=0.0), HTML(value='')))"
      ]
     },
     "metadata": {},
     "output_type": "display_data"
    },
    {
     "name": "stdout",
     "output_type": "stream",
     "text": [
      "\n"
     ]
    },
    {
     "data": {
      "application/vnd.jupyter.widget-view+json": {
       "model_id": "83591bd6426e43a98028d34975c06480",
       "version_major": 2,
       "version_minor": 0
      },
      "text/plain": [
       "HBox(children=(FloatProgress(value=0.0), HTML(value='')))"
      ]
     },
     "metadata": {},
     "output_type": "display_data"
    },
    {
     "name": "stdout",
     "output_type": "stream",
     "text": [
      "\n"
     ]
    },
    {
     "data": {
      "application/vnd.jupyter.widget-view+json": {
       "model_id": "235dc7542c0f46e4a4cc3610a4d97ab6",
       "version_major": 2,
       "version_minor": 0
      },
      "text/plain": [
       "HBox(children=(FloatProgress(value=0.0), HTML(value='')))"
      ]
     },
     "metadata": {},
     "output_type": "display_data"
    },
    {
     "name": "stdout",
     "output_type": "stream",
     "text": [
      "\n"
     ]
    },
    {
     "data": {
      "application/vnd.jupyter.widget-view+json": {
       "model_id": "0ea534bb3f934c829ede4ca1ba8d699d",
       "version_major": 2,
       "version_minor": 0
      },
      "text/plain": [
       "HBox(children=(FloatProgress(value=0.0), HTML(value='')))"
      ]
     },
     "metadata": {},
     "output_type": "display_data"
    },
    {
     "name": "stdout",
     "output_type": "stream",
     "text": [
      "\n"
     ]
    },
    {
     "data": {
      "application/vnd.jupyter.widget-view+json": {
       "model_id": "f879d946faaf4b7b81866061334a75f0",
       "version_major": 2,
       "version_minor": 0
      },
      "text/plain": [
       "HBox(children=(FloatProgress(value=0.0), HTML(value='')))"
      ]
     },
     "metadata": {},
     "output_type": "display_data"
    },
    {
     "name": "stdout",
     "output_type": "stream",
     "text": [
      "\n"
     ]
    }
   ],
   "source": [
    "import warnings\n",
    "warnings.filterwarnings('ignore')\n",
    "\n",
    "N = 20\n",
    "A = 2\n",
    "delta = np.arange(0.1,1,0.1)\n",
    "\n",
    "hyperiters = 100\n",
    "process_per_hyperiter = 40\n",
    "\n",
    "errors = {}\n",
    "\n",
    "methods = ['cood_refinement_greedy','cood_refinement_greedy_Y_init']\n",
    "\n",
    "for method in methods:\n",
    "    print('*'*50,'\\n',method,'\\n','*'*50)\n",
    "    method_params = {}\n",
    "    method_params['P_init'] = 1/A * np.ones((N,A))\n",
    "    errors[method] = gen_error_rates(N,A,delta, method, method_params,hyperiters,process_per_hyperiter)"
   ]
  },
  {
   "cell_type": "code",
   "execution_count": 61,
   "metadata": {
    "ExecuteTime": {
     "end_time": "2020-04-02T02:21:07.901695Z",
     "start_time": "2020-04-02T02:21:07.745554Z"
    }
   },
   "outputs": [
    {
     "data": {
      "image/png": "[encoded data removed]",
      "text/plain": [
       "<Figure size 432x360 with 1 Axes>"
      ]
     },
     "metadata": {},
     "output_type": "display_data"
    }
   ],
   "source": [
    "fig = plt.figure(figsize = (6,5))\n",
    "\n",
    "key = 'cood_refinement_greedy'\n",
    "plt.plot(errors[key]['delta_vec'],errors[key]['hamming_error_list'].mean(axis = 1),label = 'uniform initialization')\n",
    "\n",
    "key = 'cood_refinement_greedy_Y_init'\n",
    "plt.plot(errors[key]['delta_vec'],errors[key]['hamming_error_list'].mean(axis = 1),label = 'initialization based on Y')\n",
    "\n",
    "plt.legend()\n",
    "plt.show()\n",
    "\n",
    "fig.savefig('cood_ref_Y_init.eps',format = 'eps')"
   ]
  },
  {
   "cell_type": "code",
   "execution_count": 82,
   "metadata": {
    "ExecuteTime": {
     "end_time": "2020-02-21T01:56:55.908828Z",
     "start_time": "2020-02-21T01:56:55.720364Z"
    }
   },
   "outputs": [
    {
     "data": {
      "image/png": "[encoded data removed]",
      "text/plain": [
       "<Figure size 432x288 with 1 Axes>"
      ]
     },
     "metadata": {},
     "output_type": "display_data"
    }
   ],
   "source": [
    "delta = 4\n",
    "data = []\n",
    "for key in errors.keys():\n",
    "    data.append(np.maximum(errors[key]['likelihood_gain_list'][delta],-1))\n",
    "for key in errors.keys():\n",
    "    sns.boxplot(data = data)\n",
    "plt.xlabel(list(errors.keys()))\n",
    "plt.show()"
   ]
  },
  {
   "cell_type": "code",
   "execution_count": 39,
   "metadata": {
    "ExecuteTime": {
     "end_time": "2020-02-21T01:45:42.921097Z",
     "start_time": "2020-02-21T01:45:42.913568Z"
    }
   },
   "outputs": [],
   "source": [
    "np.save('errors_BL100.npy',errors)"
   ]
  },
  {
   "cell_type": "code",
   "execution_count": null,
   "metadata": {
    "ExecuteTime": {
     "end_time": "2020-02-20T23:12:46.552610Z",
     "start_time": "2020-02-20T23:12:46.547685Z"
    }
   },
   "outputs": [],
   "source": [
    "data = []\n",
    "for key in errors.keys():\n",
    "    data.append(errors[key]['hamming_error_list'][5])"
   ]
  },
  {
   "cell_type": "code",
   "execution_count": null,
   "metadata": {
    "ExecuteTime": {
     "end_time": "2020-02-20T23:12:47.153496Z",
     "start_time": "2020-02-20T23:12:46.931605Z"
    }
   },
   "outputs": [],
   "source": [
    "for key in errors.keys():\n",
    "#     plt.plot(errors[key]['delta_vec'],errors[key]['hamming_error_list'].mean(axis = 1))\n",
    "    sns.violinplot(data = data)\n",
    "\n",
    "plt.xlabel(errors.keys())\n",
    "# sns.violinplot(data = result['hamming_error_list'].T)\n"
   ]
  },
  {
   "cell_type": "code",
   "execution_count": null,
   "metadata": {},
   "outputs": [],
   "source": [
    "# np.save('ML_error.npy',ML_error)\n",
    "# np.save('MAP_error.npy',MAP_error)\n",
    "# np.save('ML_cood_error.npy',ML_cood_error)\n",
    "# np.save('MAP_cood_error.npy',MAP_cood_error)\n",
    "# np.save('cood_switch_error.npy',cood_switch_error)\n",
    "# np.save('cood_switch_vertex_error.npy',cood_switch_vertex_error)"
   ]
  },
  {
   "cell_type": "code",
   "execution_count": null,
   "metadata": {
    "ExecuteTime": {
     "end_time": "2019-12-28T06:41:33.185968Z",
     "start_time": "2019-12-28T06:41:33.178987Z"
    }
   },
   "outputs": [],
   "source": [
    "ML_error = np.load('ML_error.npy').item()\n",
    "MAP_error = np.load('MAP_error.npy').item()\n",
    "ML_cood_error = np.load('ML_cood_error.npy').item()\n",
    "MAP_cood_error = np.load('MAP_cood_error.npy').item()\n",
    "cood_switch_error = np.load('cood_switch_error.npy').item()\n",
    "cood_switch_vertex_error = np.load('cood_switch_vertex_error.npy').item()"
   ]
  },
  {
   "cell_type": "code",
   "execution_count": null,
   "metadata": {
    "ExecuteTime": {
     "end_time": "2019-12-28T06:41:35.946476Z",
     "start_time": "2019-12-28T06:41:35.201082Z"
    }
   },
   "outputs": [],
   "source": [
    "\n",
    "fig = plt.figure(figsize = (10,6))\n",
    "ax = fig.add_subplot(111)\n",
    "\n",
    "ax.plot(MAP_error['del_probs'],MAP_error['hamming_dist'],\\\n",
    "        label = 'Symbolwise MAP', marker = 's', markersize = 10, linewidth = 2)\n",
    "ax.plot(ML_error['del_probs'],ML_error['hamming_dist'],\\\n",
    "        label = 'ML via gradient ascent', marker = 'o', markersize = 10, linewidth = 2)\n",
    "ax.plot(ML_cood_error['del_probs'],ML_cood_error['hamming_dist'],\\\n",
    "        label = 'ML grad. asc. + Cood. ref.', marker = 'd', markersize = 10, linewidth = 2)\n",
    "ax.plot(MAP_cood_error['del_probs'],MAP_cood_error['hamming_dist'],\\\n",
    "        label = 'Sym. MAP + Cood. ref.', marker = '>', markersize = 10, linewidth = 2)\n",
    "ax.plot(cood_switch_error['del_probs'],cood_switch_error['hamming_dist'],\\\n",
    "        label = 'Coordinate refinement', marker = '^', markersize = 10, linewidth = 2)\n",
    "\n",
    "ax.plot(cood_switch_vertex_error['del_probs'],cood_switch_vertex_error['hamming_dist'],\\\n",
    "        label = 'Cood. ref. vertex init', marker = 'v', markersize = 10, linewidth = 2)\n",
    "\n",
    "plt.xticks(fontsize=16)\n",
    "plt.yticks(fontsize=16)\n",
    "\n",
    "ax.set_xlabel('Deletion Probability',fontsize = 18)\n",
    "ax.set_ylabel('Hamming error rate',fontsize = 18)\n",
    "lgd = ax.legend(bbox_to_anchor=(1, -0.15), loc='upper right', ncol=2,fontsize='xx-large')\n",
    "\n",
    "# fig.savefig('error_rates.eps',format = 'eps', bbox_inches='tight')\n",
    "plt.show()"
   ]
  }
 ],
 "metadata": {
  "kernelspec": {
   "display_name": "Python 3",
   "language": "python",
   "name": "python3"
  },
  "language_info": {
   "codemirror_mode": {
    "name": "ipython",
    "version": 3
   },
   "file_extension": ".py",
   "mimetype": "text/x-python",
   "name": "python",
   "nbconvert_exporter": "python",
   "pygments_lexer": "ipython3",
   "version": "3.6.10"
  },
  "latex_envs": {
   "LaTeX_envs_menu_present": true,
   "autoclose": false,
   "autocomplete": true,
   "bibliofile": "biblio.bib",
   "cite_by": "apalike",
   "current_citInitial": 1,
   "eqLabelWithNumbers": true,
   "eqNumInitial": 1,
   "hotkeys": {
    "equation": "Ctrl-E",
    "itemize": "Ctrl-I"
   },
   "labels_anchors": false,
   "latex_user_defs": false,
   "report_style_numbering": false,
   "user_envs_cfg": false
  },
  "toc": {
   "base_numbering": 1,
   "nav_menu": {},
   "number_sections": true,
   "sideBar": true,
   "skip_h1_title": false,
   "title_cell": "Table of Contents",
   "title_sidebar": "Contents",
   "toc_cell": false,
   "toc_position": {},
   "toc_section_display": true,
   "toc_window_display": false
  },
  "varInspector": {
   "cols": {
    "lenName": 16,
    "lenType": 16,
    "lenVar": 40
   },
   "kernels_config": {
    "python": {
     "delete_cmd_postfix": "",
     "delete_cmd_prefix": "del ",
     "library": "var_list.py",
     "varRefreshCmd": "print(var_dic_list())"
    },
    "r": {
     "delete_cmd_postfix": ") ",
     "delete_cmd_prefix": "rm(",
     "library": "var_list.r",
     "varRefreshCmd": "cat(var_dic_list()) "
    }
   },
   "types_to_exclude": [
    "module",
    "function",
    "builtin_function_or_method",
    "instance",
    "_Feature"
   ],
   "window_display": false
  }
 },
 "nbformat": 4,
 "nbformat_minor": 2
}
